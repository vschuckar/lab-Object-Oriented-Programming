{
 "cells": [
  {
   "cell_type": "markdown",
   "metadata": {},
   "source": [
    "### Instructions \n",
    "\n",
    "Create a Python Tv class with a constructor and the following **attributes**:\n",
    "\n",
    "* .on (Boolean)\n",
    "* .volume (float in [0,100])\n",
    "* .active_channel (int in [1,10])\n",
    "* .input (str in [\"Anthena\", \"HDMI1\", \"HDMI2\", \"HDMI3\"])\n",
    "* .size (float in [42, 50, 55, 65, 75])\n",
    "\n",
    "#### Methods\n",
    "\n",
    "* .switch_on()\n",
    "* .switch_off()\n",
    "* .set_volume(volume: int)\n",
    "* .change_channel(channel: int)\n",
    "* .set_input(value: str)"
   ]
  },
  {
   "cell_type": "code",
   "execution_count": 2,
   "metadata": {},
   "outputs": [],
   "source": [
    "class Tv(): \n",
    "\n",
    "    def __init__(self, on, volume, active_channel, input, size):\n",
    "\n",
    "        # on -> (Boolean)\n",
    "        # volume -> (float in [0,100])\n",
    "        # active_channel -> (int in [1,10]) \n",
    "        # input -> (str in [\"Anthena\", \"HDMI1\", \"HDMI2\", \"HDMI3\"])\n",
    "        # size -> (float in [42, 50, 55, 65, 75])\n",
    "\n",
    "        if not isinstance(on, bool):\n",
    "            raise ValueError(\"on must be a boolean\")\n",
    "\n",
    "        if not (0 <= volume <= 100):\n",
    "            raise ValueError(\"volume must be a float in the range [0-100]\")\n",
    "\n",
    "        if not (1 <= active_channel <= 10):\n",
    "            raise ValueError(\"active_channel must be an int in the range [1, 10]\")\n",
    "\n",
    "        valid_inputs = [\"Anthena\", \"HDMI1\", \"HDMI2\", \"HDMI3\"]\n",
    "        if input not in valid_inputs:\n",
    "            raise ValueError(f\"input must be one of {valid_inputs}\")\n",
    "\n",
    "        valid_sizes = [42, 50, 55, 65, 75]\n",
    "        if size not in valid_sizes:\n",
    "            raise ValueError(f\"size must be one of {valid_sizes}\")\n",
    "\n",
    "        self.on = on\n",
    "        self.volume = volume\n",
    "        self.active_channel = active_channel\n",
    "        self.input = input\n",
    "        self.size = size\n",
    "\n",
    "    def switch_on(self):\n",
    "        self.on = True \n",
    "        print(f\"TV is switching on.\")\n",
    "    \n",
    "    def switch_off(self):\n",
    "        self.on = False \n",
    "        print(f\"TV is switching off.\")\n",
    "    \n",
    "    def set_volume(self, volume: int): \n",
    "        self.volume = volume\n",
    "        print (f\"Changing volume to {volume}.\")\n",
    "\n",
    "    def change_channel(self, channel: int):\n",
    "        self.active_channel = channel \n",
    "        print (f\"Changing channel to {channel}.\")\n",
    "    \n",
    "    def set_input(self, value: str): \n",
    "        self.input = value\n",
    "        print(f\"Setting the input as {value}.\")\n",
    " "
   ]
  },
  {
   "cell_type": "code",
   "execution_count": 5,
   "metadata": {},
   "outputs": [],
   "source": [
    "trial1 = Tv(on=True, volume=2.5, active_channel=5, input=\"HDMI1\", size=50)"
   ]
  },
  {
   "cell_type": "code",
   "execution_count": 8,
   "metadata": {},
   "outputs": [
    {
     "name": "stdout",
     "output_type": "stream",
     "text": [
      "Changing volume to 5.\n"
     ]
    }
   ],
   "source": [
    "Tv.set_volume(trial1, 5)"
   ]
  },
  {
   "cell_type": "code",
   "execution_count": 9,
   "metadata": {},
   "outputs": [
    {
     "data": {
      "text/plain": [
       "'HDMI1'"
      ]
     },
     "execution_count": 9,
     "metadata": {},
     "output_type": "execute_result"
    }
   ],
   "source": [
    "trial1.input"
   ]
  }
 ],
 "metadata": {
  "kernelspec": {
   "display_name": "Python 3",
   "language": "python",
   "name": "python3"
  },
  "language_info": {
   "codemirror_mode": {
    "name": "ipython",
    "version": 3
   },
   "file_extension": ".py",
   "mimetype": "text/x-python",
   "name": "python",
   "nbconvert_exporter": "python",
   "pygments_lexer": "ipython3",
   "version": "3.11.7"
  }
 },
 "nbformat": 4,
 "nbformat_minor": 2
}
